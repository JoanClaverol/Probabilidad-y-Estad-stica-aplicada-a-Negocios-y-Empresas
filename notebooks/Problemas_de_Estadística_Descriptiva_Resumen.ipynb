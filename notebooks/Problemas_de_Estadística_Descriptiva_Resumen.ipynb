{
  "nbformat": 4,
  "nbformat_minor": 0,
  "metadata": {
    "colab": {
      "name": "Problemas de Estadística Descriptiva. Resumen.ipynb",
      "provenance": []
    },
    "kernelspec": {
      "name": "python3",
      "display_name": "Python 3"
    },
    "language_info": {
      "name": "python"
    }
  },
  "cells": [
    {
      "cell_type": "markdown",
      "source": [
        "1. Un aeropuerto importante contrató recientemente al consultor Manuel López para estudiar el problema\n",
        "de los retrasos en el tráfico aéreo. En la siguiente tabla se puede observar la cantidad de minutos que\n",
        "los aviones llegaron tarde en una muestra de vuelos:"
      ],
      "metadata": {
        "id": "JjlxUam4o4DU"
      }
    },
    {
      "cell_type": "code",
      "source": [
        "import pandas as pd\n",
        "\n",
        "aero_data = pd.DataFrame(\n",
        "    [\n",
        "     ['0<10', 30],\n",
        "     ['10<20', 25],\n",
        "     ['20<30', 13],\n",
        "     ['30<40', 6],\n",
        "     ['40<50', 5],\n",
        "     ['50<60', 4]\n",
        "    ],\n",
        "    columns=['min_retrasto','n_vuelos']\n",
        ")\n",
        "aero_data"
      ],
      "metadata": {
        "colab": {
          "base_uri": "https://localhost:8080/",
          "height": 238
        },
        "id": "u35zDEfno6cz",
        "outputId": "6c96152d-8e05-4063-cf81-5dfe4f60b95c"
      },
      "execution_count": 4,
      "outputs": [
        {
          "output_type": "execute_result",
          "data": {
            "text/plain": [
              "  min_retrasto  n_vuelos\n",
              "0         0<10        30\n",
              "1        10<20        25\n",
              "2        20<30        13\n",
              "3        30<40         6\n",
              "4        40<50         5\n",
              "5        50<60         4"
            ],
            "text/html": [
              "\n",
              "  <div id=\"df-447982f2-d342-4afe-a6b7-1abb86532436\">\n",
              "    <div class=\"colab-df-container\">\n",
              "      <div>\n",
              "<style scoped>\n",
              "    .dataframe tbody tr th:only-of-type {\n",
              "        vertical-align: middle;\n",
              "    }\n",
              "\n",
              "    .dataframe tbody tr th {\n",
              "        vertical-align: top;\n",
              "    }\n",
              "\n",
              "    .dataframe thead th {\n",
              "        text-align: right;\n",
              "    }\n",
              "</style>\n",
              "<table border=\"1\" class=\"dataframe\">\n",
              "  <thead>\n",
              "    <tr style=\"text-align: right;\">\n",
              "      <th></th>\n",
              "      <th>min_retrasto</th>\n",
              "      <th>n_vuelos</th>\n",
              "    </tr>\n",
              "  </thead>\n",
              "  <tbody>\n",
              "    <tr>\n",
              "      <th>0</th>\n",
              "      <td>0&lt;10</td>\n",
              "      <td>30</td>\n",
              "    </tr>\n",
              "    <tr>\n",
              "      <th>1</th>\n",
              "      <td>10&lt;20</td>\n",
              "      <td>25</td>\n",
              "    </tr>\n",
              "    <tr>\n",
              "      <th>2</th>\n",
              "      <td>20&lt;30</td>\n",
              "      <td>13</td>\n",
              "    </tr>\n",
              "    <tr>\n",
              "      <th>3</th>\n",
              "      <td>30&lt;40</td>\n",
              "      <td>6</td>\n",
              "    </tr>\n",
              "    <tr>\n",
              "      <th>4</th>\n",
              "      <td>40&lt;50</td>\n",
              "      <td>5</td>\n",
              "    </tr>\n",
              "    <tr>\n",
              "      <th>5</th>\n",
              "      <td>50&lt;60</td>\n",
              "      <td>4</td>\n",
              "    </tr>\n",
              "  </tbody>\n",
              "</table>\n",
              "</div>\n",
              "      <button class=\"colab-df-convert\" onclick=\"convertToInteractive('df-447982f2-d342-4afe-a6b7-1abb86532436')\"\n",
              "              title=\"Convert this dataframe to an interactive table.\"\n",
              "              style=\"display:none;\">\n",
              "        \n",
              "  <svg xmlns=\"http://www.w3.org/2000/svg\" height=\"24px\"viewBox=\"0 0 24 24\"\n",
              "       width=\"24px\">\n",
              "    <path d=\"M0 0h24v24H0V0z\" fill=\"none\"/>\n",
              "    <path d=\"M18.56 5.44l.94 2.06.94-2.06 2.06-.94-2.06-.94-.94-2.06-.94 2.06-2.06.94zm-11 1L8.5 8.5l.94-2.06 2.06-.94-2.06-.94L8.5 2.5l-.94 2.06-2.06.94zm10 10l.94 2.06.94-2.06 2.06-.94-2.06-.94-.94-2.06-.94 2.06-2.06.94z\"/><path d=\"M17.41 7.96l-1.37-1.37c-.4-.4-.92-.59-1.43-.59-.52 0-1.04.2-1.43.59L10.3 9.45l-7.72 7.72c-.78.78-.78 2.05 0 2.83L4 21.41c.39.39.9.59 1.41.59.51 0 1.02-.2 1.41-.59l7.78-7.78 2.81-2.81c.8-.78.8-2.07 0-2.86zM5.41 20L4 18.59l7.72-7.72 1.47 1.35L5.41 20z\"/>\n",
              "  </svg>\n",
              "      </button>\n",
              "      \n",
              "  <style>\n",
              "    .colab-df-container {\n",
              "      display:flex;\n",
              "      flex-wrap:wrap;\n",
              "      gap: 12px;\n",
              "    }\n",
              "\n",
              "    .colab-df-convert {\n",
              "      background-color: #E8F0FE;\n",
              "      border: none;\n",
              "      border-radius: 50%;\n",
              "      cursor: pointer;\n",
              "      display: none;\n",
              "      fill: #1967D2;\n",
              "      height: 32px;\n",
              "      padding: 0 0 0 0;\n",
              "      width: 32px;\n",
              "    }\n",
              "\n",
              "    .colab-df-convert:hover {\n",
              "      background-color: #E2EBFA;\n",
              "      box-shadow: 0px 1px 2px rgba(60, 64, 67, 0.3), 0px 1px 3px 1px rgba(60, 64, 67, 0.15);\n",
              "      fill: #174EA6;\n",
              "    }\n",
              "\n",
              "    [theme=dark] .colab-df-convert {\n",
              "      background-color: #3B4455;\n",
              "      fill: #D2E3FC;\n",
              "    }\n",
              "\n",
              "    [theme=dark] .colab-df-convert:hover {\n",
              "      background-color: #434B5C;\n",
              "      box-shadow: 0px 1px 3px 1px rgba(0, 0, 0, 0.15);\n",
              "      filter: drop-shadow(0px 1px 2px rgba(0, 0, 0, 0.3));\n",
              "      fill: #FFFFFF;\n",
              "    }\n",
              "  </style>\n",
              "\n",
              "      <script>\n",
              "        const buttonEl =\n",
              "          document.querySelector('#df-447982f2-d342-4afe-a6b7-1abb86532436 button.colab-df-convert');\n",
              "        buttonEl.style.display =\n",
              "          google.colab.kernel.accessAllowed ? 'block' : 'none';\n",
              "\n",
              "        async function convertToInteractive(key) {\n",
              "          const element = document.querySelector('#df-447982f2-d342-4afe-a6b7-1abb86532436');\n",
              "          const dataTable =\n",
              "            await google.colab.kernel.invokeFunction('convertToInteractive',\n",
              "                                                     [key], {});\n",
              "          if (!dataTable) return;\n",
              "\n",
              "          const docLinkHtml = 'Like what you see? Visit the ' +\n",
              "            '<a target=\"_blank\" href=https://colab.research.google.com/notebooks/data_table.ipynb>data table notebook</a>'\n",
              "            + ' to learn more about interactive tables.';\n",
              "          element.innerHTML = '';\n",
              "          dataTable['output_type'] = 'display_data';\n",
              "          await google.colab.output.renderOutput(dataTable, element);\n",
              "          const docLink = document.createElement('div');\n",
              "          docLink.innerHTML = docLinkHtml;\n",
              "          element.appendChild(docLink);\n",
              "        }\n",
              "      </script>\n",
              "    </div>\n",
              "  </div>\n",
              "  "
            ]
          },
          "metadata": {},
          "execution_count": 4
        }
      ]
    },
    {
      "cell_type": "code",
      "source": [
        "# a. Estime el número medio de minutos de retraso\n",
        "aero_data['n_vuelos'].mean()"
      ],
      "metadata": {
        "colab": {
          "base_uri": "https://localhost:8080/"
        },
        "id": "yU2NtkFypm_a",
        "outputId": "c7bb3338-ee73-4372-a386-73e5d21d36ee"
      },
      "execution_count": null,
      "outputs": [
        {
          "output_type": "execute_result",
          "data": {
            "text/plain": [
              "13.833333333333334"
            ]
          },
          "metadata": {},
          "execution_count": 5
        }
      ]
    },
    {
      "cell_type": "code",
      "source": [
        "# b. Estime la varianza y la desviación estándar de la muestra.\n",
        "aero_data['n_vuelos'].var()"
      ],
      "metadata": {
        "colab": {
          "base_uri": "https://localhost:8080/"
        },
        "id": "u9OztKG-p1o0",
        "outputId": "0f34de58-10f9-45c9-9e6e-951ba532ee74"
      },
      "execution_count": null,
      "outputs": [
        {
          "output_type": "execute_result",
          "data": {
            "text/plain": [
              "124.56666666666665"
            ]
          },
          "metadata": {},
          "execution_count": 7
        }
      ]
    },
    {
      "cell_type": "code",
      "source": [
        "aero_data['n_vuelos'].std()"
      ],
      "metadata": {
        "colab": {
          "base_uri": "https://localhost:8080/"
        },
        "id": "4PVmnBsXp-nf",
        "outputId": "e3bf3a0d-1c81-4235-fb6d-94afdab54dd0"
      },
      "execution_count": null,
      "outputs": [
        {
          "output_type": "execute_result",
          "data": {
            "text/plain": [
              "11.16094380716374"
            ]
          },
          "metadata": {},
          "execution_count": 8
        }
      ]
    },
    {
      "cell_type": "markdown",
      "source": [
        "2. Considere las siguientes cuatro poblaciones:\n",
        "\n",
        "* 1, 2, 3, 4, 5, 6, 7, 8\n",
        "* 1, 1, 1, 1, 8, 8, 8, 8\n",
        "* 1, 1, 4, 4, 5, 5, 8, 8\n",
        "* −6, −3, 0, 3, 6, 9, 12, 15\n",
        "\n",
        "Todas estas poblaciones tienen la misma media. Sin hacer los cálculos, organice las poblaciones de acuerdo conlas magnitudes de sus varianzas, de menor a mayor. Luego calcule cada una de las variaciones manualmente.\n",
        "\n",
        "\n",
        "\n"
      ],
      "metadata": {
        "id": "cvSPt8NWqJkI"
      }
    },
    {
      "cell_type": "code",
      "source": [
        "# organice las poblaciones de acuerdo conlas magnitudes de sus varianzas, de menor a mayor.\n",
        "# 1. −6, −3, 0, 3, 6, 9, 12, 15\n",
        "# 2. 1, 1, 1, 1, 8, 8, 8, 8\n",
        "# 3. 1, 2, 3, 4, 5, 6, 7, 8\n",
        "# 4. 1, 1, 4, 4, 5, 5, 8, 8"
      ],
      "metadata": {
        "id": "RG8CTfmcqNoo"
      },
      "execution_count": null,
      "outputs": []
    },
    {
      "cell_type": "code",
      "source": [
        ""
      ],
      "metadata": {
        "id": "-E5XvlP3I8T3"
      },
      "execution_count": null,
      "outputs": []
    },
    {
      "cell_type": "markdown",
      "source": [
        "3. Los tiempos en minutos que están 50 clientes en un supermercado local para realizar la compra son los\n",
        "siguientes:\n"
      ],
      "metadata": {
        "id": "MGCGi6ryT8bo"
      }
    },
    {
      "cell_type": "code",
      "source": [
        "tiempos = pd.Series([26.88, 28.60, 20.73, 34.00, 35.87, 25.99, 20.94, 26.45, 29.54, 26.27,\n",
        " 26.51, 29.70, 29.55, 33.52, 30.49, 31.49, 21.28, 23.57, 22.47, 23.15,\n",
        " 19.51, 23.85, 30.98, 9.81, 26.59, 29.68, 30.48, 25.38, 23.49, 25.11,\n",
        " 19.35, 33.80, 23.14, 13.56, 24.63, 24.26, 37.18, 22.20, 21.37, 28.30,\n",
        " 11.02, 25.59, 24.38, 25.29, 29.17, 25.55, 26.94, 27.24, 19.10, 27.44]\n",
        ")\n",
        "tiempos"
      ],
      "metadata": {
        "colab": {
          "base_uri": "https://localhost:8080/"
        },
        "id": "Fjmp_-XUT9U3",
        "outputId": "ac314bfc-2085-42ca-a2f1-7a25009ec347"
      },
      "execution_count": 5,
      "outputs": [
        {
          "output_type": "execute_result",
          "data": {
            "text/plain": [
              "0     26.88\n",
              "1     28.60\n",
              "2     20.73\n",
              "3     34.00\n",
              "4     35.87\n",
              "5     25.99\n",
              "6     20.94\n",
              "7     26.45\n",
              "8     29.54\n",
              "9     26.27\n",
              "10    26.51\n",
              "11    29.70\n",
              "12    29.55\n",
              "13    33.52\n",
              "14    30.49\n",
              "15    31.49\n",
              "16    21.28\n",
              "17    23.57\n",
              "18    22.47\n",
              "19    23.15\n",
              "20    19.51\n",
              "21    23.85\n",
              "22    30.98\n",
              "23     9.81\n",
              "24    26.59\n",
              "25    29.68\n",
              "26    30.48\n",
              "27    25.38\n",
              "28    23.49\n",
              "29    25.11\n",
              "30    19.35\n",
              "31    33.80\n",
              "32    23.14\n",
              "33    13.56\n",
              "34    24.63\n",
              "35    24.26\n",
              "36    37.18\n",
              "37    22.20\n",
              "38    21.37\n",
              "39    28.30\n",
              "40    11.02\n",
              "41    25.59\n",
              "42    24.38\n",
              "43    25.29\n",
              "44    29.17\n",
              "45    25.55\n",
              "46    26.94\n",
              "47    27.24\n",
              "48    19.10\n",
              "49    27.44\n",
              "dtype: float64"
            ]
          },
          "metadata": {},
          "execution_count": 5
        }
      ]
    },
    {
      "cell_type": "code",
      "source": [
        "tiempos.mean()"
      ],
      "metadata": {
        "colab": {
          "base_uri": "https://localhost:8080/"
        },
        "id": "hwUDTyrFUfVE",
        "outputId": "b760f3ea-8eb9-4774-a2a7-96a627030eac"
      },
      "execution_count": 6,
      "outputs": [
        {
          "output_type": "execute_result",
          "data": {
            "text/plain": [
              "25.627799999999997"
            ]
          },
          "metadata": {},
          "execution_count": 6
        }
      ]
    },
    {
      "cell_type": "code",
      "source": [
        "tiempos.var()"
      ],
      "metadata": {
        "colab": {
          "base_uri": "https://localhost:8080/"
        },
        "id": "SMbUYmXHUote",
        "outputId": "e463ffe8-6ee0-4b5a-bb52-47823fe9c3ec"
      },
      "execution_count": 7,
      "outputs": [
        {
          "output_type": "execute_result",
          "data": {
            "text/plain": [
              "30.90994812244897"
            ]
          },
          "metadata": {},
          "execution_count": 7
        }
      ]
    },
    {
      "cell_type": "code",
      "source": [
        "tiempos.std()"
      ],
      "metadata": {
        "colab": {
          "base_uri": "https://localhost:8080/"
        },
        "id": "twX9qW2mUqqN",
        "outputId": "bd72002a-91ab-4091-eaeb-3ffc50e79893"
      },
      "execution_count": 8,
      "outputs": [
        {
          "output_type": "execute_result",
          "data": {
            "text/plain": [
              "5.559671584046037"
            ]
          },
          "metadata": {},
          "execution_count": 8
        }
      ]
    },
    {
      "cell_type": "code",
      "source": [
        "tiempos.quantile(.9)"
      ],
      "metadata": {
        "colab": {
          "base_uri": "https://localhost:8080/"
        },
        "id": "cacm0nLtUsD2",
        "outputId": "7f5ff830-5c05-4074-d958-995cf44dc15e"
      },
      "execution_count": 12,
      "outputs": [
        {
          "output_type": "execute_result",
          "data": {
            "text/plain": [
              "31.693"
            ]
          },
          "metadata": {},
          "execution_count": 12
        }
      ]
    },
    {
      "cell_type": "code",
      "source": [
        ""
      ],
      "metadata": {
        "id": "Hg2NVHwFV_cj"
      },
      "execution_count": null,
      "outputs": []
    },
    {
      "cell_type": "code",
      "source": [
        "3. Los tiempos en minutos que están 50 clientes en un supermercado local para realizar la compra son los\n",
        "siguientes:\n"
      ],
      "metadata": {
        "id": "AvS1u5ahT5QB"
      },
      "execution_count": null,
      "outputs": []
    }
  ]
}