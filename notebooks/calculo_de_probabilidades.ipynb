{
 "cells": [
  {
   "cell_type": "code",
   "execution_count": 3,
   "metadata": {},
   "outputs": [],
   "source": [
    "import pandas as pd"
   ]
  },
  {
   "cell_type": "markdown",
   "metadata": {},
   "source": [
    "##### 1. Calcula cuantas formas hay de elegir dos vocales ordenadas"
   ]
  },
  {
   "cell_type": "code",
   "execution_count": 4,
   "metadata": {},
   "outputs": [
    {
     "data": {
      "text/plain": [
       "20"
      ]
     },
     "execution_count": 4,
     "metadata": {},
     "output_type": "execute_result"
    }
   ],
   "source": [
    "vocales = ['a','e','i','o','u']\n",
    "\n",
    "from itertools import permutations\n",
    "\n",
    "perm = permutations(vocales, 2)\n",
    "len(list(perm))"
   ]
  },
  {
   "cell_type": "markdown",
   "metadata": {},
   "source": [
    "##### 2. En recursos humans tienen 8 candidatos para 4 puestos de trabajo. de los cuales 5 son hombres y 3 mujeres. Como todos los CVs son iguales, decidimos hacer una selección aleatoria de los candidatos. ¿Cuál es la probablidad de que no contratemos a ningnua mujer?"
   ]
  },
  {
   "cell_type": "code",
   "execution_count": 5,
   "metadata": {},
   "outputs": [
    {
     "data": {
      "text/plain": [
       "['m', 'm', 'm', 'm', 'm', 'w', 'w', 'w']"
      ]
     },
     "execution_count": 5,
     "metadata": {},
     "output_type": "execute_result"
    }
   ],
   "source": [
    "candidatos = ['m']*5 + ['w']*3\n",
    "candidatos"
   ]
  },
  {
   "cell_type": "code",
   "execution_count": 6,
   "metadata": {},
   "outputs": [
    {
     "data": {
      "text/plain": [
       "0.07142857142857142"
      ]
     },
     "execution_count": 6,
     "metadata": {},
     "output_type": "execute_result"
    }
   ],
   "source": [
    "candidatos = ['m']*5 + ['w']*3\n",
    "candidatos\n",
    "\n",
    "# P(m, m, m, m): probabilidad de todo hombres\n",
    "perm = permutations(candidatos, 4)\n",
    "n = len(list(permutations(candidatos, 4)))\n",
    "\n",
    "n_all_man = 0 \n",
    "for p in list(perm): \n",
    "    n_all_man += p.count('m') == 4\n",
    "\n",
    "n_all_man / n"
   ]
  },
  {
   "cell_type": "code",
   "execution_count": 7,
   "metadata": {},
   "outputs": [
    {
     "data": {
      "text/plain": [
       "0.07142857142857142"
      ]
     },
     "execution_count": 7,
     "metadata": {},
     "output_type": "execute_result"
    }
   ],
   "source": [
    "# check \n",
    "1/14"
   ]
  },
  {
   "cell_type": "markdown",
   "metadata": {},
   "source": [
    "3. Analizamos dos días consecutivos de IBEX para calcular cuál es la probabilidad que el mercado suba en al menos uno de los dos días estudiados. ¿Podrías intentar extrapolar la fórmula a que el mercado suba al menos uno de tres días estudiados, de cuatro, y así sucesivamente?"
   ]
  },
  {
   "cell_type": "markdown",
   "metadata": {},
   "source": []
  },
  {
   "cell_type": "code",
   "execution_count": 49,
   "metadata": {},
   "outputs": [
    {
     "data": {
      "text/plain": [
       "0.75"
      ]
     },
     "execution_count": 49,
     "metadata": {},
     "output_type": "execute_result"
    }
   ],
   "source": [
    "# correccion\n",
    "# s: subida\n",
    "# ns: no subida\n",
    "reaccion_mercado = ['s','ns']\n",
    "\n",
    "from itertools import product\n",
    "options = [list(option) for option in list(product(reaccion_mercado, repeat=2))]\n",
    "options\n",
    "\n",
    "n_subidas_mercado = 0\n",
    "for option in options: \n",
    "    if 's' in option: \n",
    "        n_subidas_mercado += 1\n",
    "\n",
    "n_subidas_mercado / len(options)"
   ]
  },
  {
   "cell_type": "markdown",
   "metadata": {},
   "source": [
    "formula:\n",
    "\n",
    "$$\n",
    "P(1\\ subida) = 1 - P(ninguna\\ subida) = 1 - \\frac{1}{2^n} \n",
    "$$\n"
   ]
  },
  {
   "cell_type": "markdown",
   "metadata": {},
   "source": [
    "# "
   ]
  }
 ],
 "metadata": {
  "kernelspec": {
   "display_name": "Python 3.9.7 ('base')",
   "language": "python",
   "name": "python3"
  },
  "language_info": {
   "codemirror_mode": {
    "name": "ipython",
    "version": 3
   },
   "file_extension": ".py",
   "mimetype": "text/x-python",
   "name": "python",
   "nbconvert_exporter": "python",
   "pygments_lexer": "ipython3",
   "version": "3.9.7"
  },
  "orig_nbformat": 4,
  "vscode": {
   "interpreter": {
    "hash": "c2238120c9728f74513279f8a3f1aeaaba1d165fa4f95681a8f2d6d36a71a29d"
   }
  }
 },
 "nbformat": 4,
 "nbformat_minor": 2
}
